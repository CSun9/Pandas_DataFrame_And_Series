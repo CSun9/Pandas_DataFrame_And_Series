{
 "cells": [
  {
   "cell_type": "markdown",
   "metadata": {},
   "source": [
    "## Introduction to Pandas Series\n",
    "\n",
    "_Pandas is an open source, BSD-licensed library providing high-performance, easy-to-use data structures and data analysis tools for the Python programming language._\n",
    "\n",
    "_The Data structures are_ __DataFrame__ and __Series__\n",
    "\n",
    "In this notebook, we'll be looking into __Pandas Series__\n",
    "\n",
    "Note: It's highly recommended to go through my tutorial on  __Pandas DataFrame__ before continuing with this one. It'll help you to have a better understanding of __Pandas Series__"
   ]
  },
  {
   "cell_type": "markdown",
   "metadata": {},
   "source": [
    "### What is Pandas Series?\n",
    "\n",
    "Technically, Pandas Series is a one-dimensional labeled array capable of holding any data type. \n",
    "\n",
    "In layman terms, Pandas Series is nothing but a column in an excel sheet.  As in the picture below, columns with __Name, Age and Designation__ representing a Series\n",
    "\n",
    "_So, in terms of Pandas DataStructure, A Series represents a single column in memory, which is either independent or belongs to a Pandas DataFrame_. "
   ]
  },
  {
   "cell_type": "markdown",
   "metadata": {},
   "source": [
    "![alt text](excel_sheet.png \"Title\")"
   ]
  },
  {
   "cell_type": "markdown",
   "metadata": {},
   "source": [
    "### Pandas Series are Independent of DataFrame\n",
    "\n",
    "A Series can have its own independent existence without DataFrame. We can very well create a series (i.e a 1-D column array) and use it for data analysis"
   ]
  },
  {
   "cell_type": "markdown",
   "metadata": {},
   "source": [
    "### How to use Pandas Series?"
   ]
  },
  {
   "cell_type": "code",
   "execution_count": null,
   "metadata": {},
   "outputs": [],
   "source": [
    "# The logistics\n",
    "import pandas as pd\n",
    "import numpy as np"
   ]
  },
  {
   "cell_type": "markdown",
   "metadata": {},
   "source": [
    "A Pandas Series can be created out of a Python list or numpy array. It has to be remembered that unlike Python lists, a Series will always contain data of the same type. That's the reason why a numpy array is a better candidate for creating a pandas series"
   ]
  },
  {
   "cell_type": "code",
   "execution_count": null,
   "metadata": {},
   "outputs": [],
   "source": [
    "series_list = pd.Series([1,2,3,4,5,6])\n",
    "series_np = pd.Series(np.array([10,20,30,40,50,60]))"
   ]
  },
  {
   "cell_type": "code",
   "execution_count": null,
   "metadata": {},
   "outputs": [],
   "source": [
    "series_list"
   ]
  },
  {
   "cell_type": "code",
   "execution_count": null,
   "metadata": {},
   "outputs": [],
   "source": [
    "series_np"
   ]
  },
  {
   "cell_type": "markdown",
   "metadata": {},
   "source": [
    "As with Pandas DataFrame, the Series also generates a default row index number. We can replace the by default row index number with the number sequence of our choice."
   ]
  },
  {
   "cell_type": "code",
   "execution_count": null,
   "metadata": {},
   "outputs": [],
   "source": [
    "series_index = pd.Series(np.array([10,20,30,40,50,60]), index=np.arange(0,12,2))"
   ]
  },
  {
   "cell_type": "code",
   "execution_count": null,
   "metadata": {},
   "outputs": [],
   "source": [
    "series_index"
   ]
  },
  {
   "cell_type": "code",
   "execution_count": null,
   "metadata": {},
   "outputs": [],
   "source": [
    "series_index = pd.Series(np.array([10,20,30,40,50,60]), index=['a', 'b', 'c', 'd', 'e', 'f' ] )"
   ]
  },
  {
   "cell_type": "code",
   "execution_count": null,
   "metadata": {},
   "outputs": [],
   "source": [
    "series_index"
   ]
  },
  {
   "cell_type": "markdown",
   "metadata": {},
   "source": [
    "We can print the index separately as"
   ]
  },
  {
   "cell_type": "code",
   "execution_count": null,
   "metadata": {},
   "outputs": [],
   "source": [
    "series_index.index"
   ]
  },
  {
   "cell_type": "markdown",
   "metadata": {},
   "source": [
    "### Pandas Series from python Dictionary\n",
    "\n",
    "As we've seen during creation of Pandas DataFrame, it was extremely easy to create a DataFrame out of python dictionaries as __keys__ maps to Column header while __values__ corresponds to column values.\n",
    "\n",
    "__So how does it map while creating the Pandas Series?__\n",
    "\n",
    "If we create a Series from a python dictionary, the __key__ becomes the row index while the __value__ becomes the value at that row index.\n"
   ]
  },
  {
   "cell_type": "code",
   "execution_count": null,
   "metadata": {},
   "outputs": [],
   "source": [
    "t_dict = {'a' : 1, 'b': 2, 'c':3}\n",
    "\n",
    "series_dict = pd.Series(t_dict)"
   ]
  },
  {
   "cell_type": "code",
   "execution_count": null,
   "metadata": {},
   "outputs": [],
   "source": [
    "series_dict"
   ]
  },
  {
   "cell_type": "markdown",
   "metadata": {},
   "source": [
    "So far so good, but what if the key contains a list of values? Well, in that case, the list will be represented as a single value against the row index"
   ]
  },
  {
   "cell_type": "code",
   "execution_count": null,
   "metadata": {},
   "outputs": [],
   "source": [
    "t_dict = {'a' : [1,2,3], 'b': [4,5], 'c':6, 'd': \"Hello World\"}\n",
    "series_dict = pd.Series(t_dict)"
   ]
  },
  {
   "cell_type": "code",
   "execution_count": null,
   "metadata": {},
   "outputs": [],
   "source": [
    "series_dict"
   ]
  },
  {
   "cell_type": "markdown",
   "metadata": {},
   "source": [
    "### Extracting Series from a DataFrame\n",
    "\n",
    "Though Pandas Series is extremely useful in itself, most of the time, we'll will end up using DataFrame and Series together. \n",
    "\n",
    "As Series represents a 1D column array, we can use it to extract individual columns of a Pandas DataFrame. Here is how the code will look like\n",
    "\n",
    "Let's create a Pandas DataFrame first\n"
   ]
  },
  {
   "cell_type": "code",
   "execution_count": null,
   "metadata": {},
   "outputs": [],
   "source": [
    "my_dict = { 'name' : [\"a\", \"b\", \"c\", \"d\", \"e\"],\n",
    "                   'age' : [10,20, 30, 40, 50],\n",
    "                   'designation': [\"CEO\", \"VP\", \"SVP\", \"AM\", \"DEV\"]}\n",
    "df = pd.DataFrame( my_dict , index = [\"First -> \",\"Second -> \", \"Third -> \", \"Fourth -> \", \"Fifth -> \"])\n"
   ]
  },
  {
   "cell_type": "code",
   "execution_count": null,
   "metadata": {},
   "outputs": [],
   "source": [
    "df"
   ]
  },
  {
   "cell_type": "code",
   "execution_count": null,
   "metadata": {},
   "outputs": [],
   "source": [
    "df.name"
   ]
  },
  {
   "cell_type": "code",
   "execution_count": null,
   "metadata": {},
   "outputs": [],
   "source": [
    "df.age"
   ]
  },
  {
   "cell_type": "code",
   "execution_count": null,
   "metadata": {},
   "outputs": [],
   "source": [
    "df.designation"
   ]
  },
  {
   "cell_type": "code",
   "execution_count": null,
   "metadata": {},
   "outputs": [],
   "source": [
    "df['name']"
   ]
  },
  {
   "cell_type": "markdown",
   "metadata": {},
   "source": [
    "__Each column is nothing but a Series__"
   ]
  },
  {
   "cell_type": "code",
   "execution_count": null,
   "metadata": {},
   "outputs": [],
   "source": [
    "df['name']"
   ]
  },
  {
   "cell_type": "code",
   "execution_count": null,
   "metadata": {},
   "outputs": [],
   "source": [
    "series_name = df.name\n",
    "series_age = df.age\n",
    "series_designation = df.designation"
   ]
  },
  {
   "cell_type": "code",
   "execution_count": null,
   "metadata": {},
   "outputs": [],
   "source": [
    "series_name"
   ]
  },
  {
   "cell_type": "code",
   "execution_count": null,
   "metadata": {},
   "outputs": [],
   "source": [
    "series_age"
   ]
  },
  {
   "cell_type": "code",
   "execution_count": null,
   "metadata": {},
   "outputs": [],
   "source": [
    "series_designation"
   ]
  },
  {
   "cell_type": "markdown",
   "metadata": {},
   "source": [
    "### Getting Series by Iterating through a DataFrame\n",
    "\n",
    "It's possible to iterate through the DataFrame and get every column as a Series"
   ]
  },
  {
   "cell_type": "code",
   "execution_count": null,
   "metadata": {},
   "outputs": [],
   "source": [
    "series_col = []\n",
    "for col_name in df.columns:\n",
    "    series_col.append(df[col_name])    \n",
    "    \n",
    "print(series_col)"
   ]
  },
  {
   "cell_type": "markdown",
   "metadata": {},
   "source": [
    "### Creating DataFrame using Series (Standalone or Combination)\n",
    "\n",
    "A Pandas DataFrame is nothing but a collection of one of more Series (1+).  We can generate the DataFrame by using a Single Series or by combining multiple Series\n",
    "\n",
    "For example, let's generate a DataFrame from combining `series_name` and `series_age`"
   ]
  },
  {
   "cell_type": "code",
   "execution_count": null,
   "metadata": {},
   "outputs": [],
   "source": [
    "series_name"
   ]
  },
  {
   "cell_type": "code",
   "execution_count": null,
   "metadata": {},
   "outputs": [],
   "source": [
    "series_age"
   ]
  },
  {
   "cell_type": "code",
   "execution_count": null,
   "metadata": {},
   "outputs": [],
   "source": [
    "df_from_series = pd.DataFrame([series_name, series_age])"
   ]
  },
  {
   "cell_type": "code",
   "execution_count": null,
   "metadata": {},
   "outputs": [],
   "source": [
    "df_from_series"
   ]
  },
  {
   "cell_type": "markdown",
   "metadata": {},
   "source": [
    "_The difference here is that the row index values are converted into columns and columns shall be considered as row.\n",
    "This is similar to transpose of a matrix_"
   ]
  },
  {
   "cell_type": "markdown",
   "metadata": {},
   "source": [
    "_NOTE: This is NOT applicable if we create a DataFrame from a single Series_"
   ]
  },
  {
   "cell_type": "code",
   "execution_count": null,
   "metadata": {},
   "outputs": [],
   "source": [
    "df_from_series_single = pd.DataFrame(series_name)\n",
    "df_from_series_single"
   ]
  },
  {
   "cell_type": "markdown",
   "metadata": {},
   "source": [
    "_However, things changes if we pass an Array in DataFrame_"
   ]
  },
  {
   "cell_type": "code",
   "execution_count": null,
   "metadata": {},
   "outputs": [],
   "source": [
    "df_from_series_single = pd.DataFrame([series_name])\n",
    "df_from_series_single"
   ]
  },
  {
   "cell_type": "markdown",
   "metadata": {},
   "source": [
    "_Same behaviour will be observed when we pass python dictionaries as arrays to create a DataFrame_"
   ]
  },
  {
   "cell_type": "code",
   "execution_count": null,
   "metadata": {},
   "outputs": [],
   "source": [
    "t_dict"
   ]
  },
  {
   "cell_type": "code",
   "execution_count": null,
   "metadata": {},
   "outputs": [],
   "source": [
    "ds = pd.DataFrame([t_dict])\n",
    "ds"
   ]
  },
  {
   "cell_type": "code",
   "execution_count": null,
   "metadata": {},
   "outputs": [],
   "source": [
    "ds = pd.DataFrame([t_dict, t_dict ], index=[1,2])"
   ]
  },
  {
   "cell_type": "code",
   "execution_count": null,
   "metadata": {},
   "outputs": [],
   "source": [
    "ds"
   ]
  },
  {
   "cell_type": "markdown",
   "metadata": {},
   "source": [
    "### Series from a Scalar\n",
    "\n",
    "A Series can also be created from a scalar value like"
   ]
  },
  {
   "cell_type": "code",
   "execution_count": null,
   "metadata": {},
   "outputs": [],
   "source": [
    "series_scalar = pd.Series(10)\n",
    "series_scalar"
   ]
  },
  {
   "cell_type": "markdown",
   "metadata": {},
   "source": [
    "### Series Helper Functions\n",
    "\n",
    "Just like pandas DataFrame, Series also have multiple set of helper functions. Please note that all Column helper functions of Pandas DataFrame will work with Pandas Series"
   ]
  },
  {
   "cell_type": "code",
   "execution_count": null,
   "metadata": {},
   "outputs": [],
   "source": [
    "#Getting the mean of a Series\n",
    "series_age.mean()"
   ]
  },
  {
   "cell_type": "code",
   "execution_count": null,
   "metadata": {},
   "outputs": [],
   "source": [
    "# Getting the size of the Series\n",
    "series_age.size"
   ]
  },
  {
   "cell_type": "code",
   "execution_count": null,
   "metadata": {},
   "outputs": [],
   "source": [
    "# Getting all unique items in a series\n",
    "series_designation.unique()"
   ]
  },
  {
   "cell_type": "code",
   "execution_count": null,
   "metadata": {},
   "outputs": [],
   "source": [
    "# Getting a python list out of a Series\n",
    "series_name.tolist()"
   ]
  },
  {
   "cell_type": "markdown",
   "metadata": {},
   "source": [
    "### Iterating over series items\n",
    "\n",
    "Just like any other Data Structure in python, we can iterate over individual series items as"
   ]
  },
  {
   "cell_type": "code",
   "execution_count": null,
   "metadata": {},
   "outputs": [],
   "source": [
    "for value in series_name:\n",
    "    print(value)"
   ]
  },
  {
   "cell_type": "markdown",
   "metadata": {},
   "source": [
    "We can also iterate through row index numbers as "
   ]
  },
  {
   "cell_type": "code",
   "execution_count": null,
   "metadata": {},
   "outputs": [],
   "source": [
    "ppc"
   ]
  },
  {
   "cell_type": "markdown",
   "metadata": {},
   "source": [
    "This is all about basic usage of Pandas Series"
   ]
  }
 ],
 "metadata": {
  "kernelspec": {
   "display_name": "Python 3",
   "language": "python",
   "name": "python3"
  },
  "language_info": {
   "codemirror_mode": {
    "name": "ipython",
    "version": 3
   },
   "file_extension": ".py",
   "mimetype": "text/x-python",
   "name": "python",
   "nbconvert_exporter": "python",
   "pygments_lexer": "ipython3",
   "version": "3.6.3"
  }
 },
 "nbformat": 4,
 "nbformat_minor": 2
}
